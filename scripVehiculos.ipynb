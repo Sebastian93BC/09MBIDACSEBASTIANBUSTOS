{
 "cells": [
  {
   "cell_type": "code",
   "execution_count": 38,
   "metadata": {},
   "outputs": [],
   "source": [
    "# Import pandas\n",
    "import pandas as pd\n",
    "\n",
    "# Load the csv file\n",
    "database = pd.read_csv(r\"C:\\Users\\PhotonUser\\My Files\\Home Folder\\vehiculos.csv\")\n",
    "# Read the values of the file in the dataframe\n",
    "df = pd.DataFrame(database)\n",
    "\n",
    "#remove unnecessary columns\n",
    "colsRemove = ('id_trim','Carrocería','Tipo de motor')\n",
    "for col in colsRemove:\n",
    "    df.drop(str(col), axis=1, inplace=True)\n",
    "df = pd.concat([df],ignore_index=True)\n",
    "\n",
    "#create new columns\n",
    "df['ULTIMO_KILOMETRAJE_VEHICULO'] = df.apply(lambda _: '', axis=1)\n",
    "df = pd.concat([df],ignore_index=True)\n",
    "df['KILOMETRAJE_PROMEDIO_ANUAL'] = df['km']/(2023-df['año'])\n",
    "df = pd.concat([df],ignore_index=True)\n",
    "\n",
    "#rename columns\n",
    "df = df.rename(columns={'placa':'PLACA', 'km':'ULTIMO_KILOMETRAJE_VEHICULO',\n",
    "                              'Marca':'NOMBRE_FABRICANTE_VEHICULO',\n",
    "                              'Modelo':'NOMBRE_MODELO_VEHICULO',\n",
    "                              'año':'AÑO_ORIGEN_VEHICULO',\n",
    "                              'IdCli':'ID_CLIENTE'})\n",
    "df = pd.concat([df],ignore_index=True)\n",
    "print(df)\n"
   ]
  }
 ],
 "metadata": {
  "kernelspec": {
   "display_name": "base",
   "language": "python",
   "name": "python3"
  },
  "language_info": {
   "codemirror_mode": {
    "name": "ipython",
    "version": 3
   },
   "file_extension": ".py",
   "mimetype": "text/x-python",
   "name": "python",
   "nbconvert_exporter": "python",
   "pygments_lexer": "ipython3",
   "version": "3.9.12"
  },
  "orig_nbformat": 4,
  "vscode": {
   "interpreter": {
    "hash": "09b99931deeb4426d947856d4248e72740d1fa96eb54679582773865c1315c63"
   }
  }
 },
 "nbformat": 4,
 "nbformat_minor": 2
}
